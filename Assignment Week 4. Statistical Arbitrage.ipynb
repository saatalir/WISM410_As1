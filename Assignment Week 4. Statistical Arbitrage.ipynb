{
 "cells": [
  {
   "cell_type": "code",
   "execution_count": null,
   "metadata": {},
   "outputs": [],
   "source": [
    "# Set Jupyter to render directly to the screen\n",
    "%matplotlib inline\n",
    "\n",
    "# Import pandas and numpy for analysis\n",
    "import pandas as pd\n",
    "import numpy as np"
   ]
  },
  {
   "cell_type": "markdown",
   "metadata": {},
   "source": [
    "# Importing the Analysis Functions from the external Python Module"
   ]
  },
  {
   "cell_type": "code",
   "execution_count": null,
   "metadata": {},
   "outputs": [],
   "source": [
    "# Import the functions to do the cointegration analysis. This requires that 'cointegration_analysis.py' is in the same \n",
    "# directory as this notebook.\n",
    "\n",
    "from cointegration_analysis import estimate_long_run_short_run_relationships, engle_granger_two_step_cointegration_test"
   ]
  },
  {
   "cell_type": "code",
   "execution_count": null,
   "metadata": {},
   "outputs": [],
   "source": [
    "# We can use the help() function in Python to bring up the docstrings. Alternatively, we could have used shift-tab while \n",
    "# highlighint the function name or looked in the cointegration_analysis.py file itself.\n",
    "\n",
    "help(estimate_long_run_short_run_relationships)"
   ]
  },
  {
   "cell_type": "code",
   "execution_count": null,
   "metadata": {},
   "outputs": [],
   "source": [
    "help(engle_granger_two_step_cointegration_test)"
   ]
  },
  {
   "cell_type": "markdown",
   "metadata": {},
   "source": [
    "# Reading in the CSV file"
   ]
  },
  {
   "cell_type": "code",
   "execution_count": null,
   "metadata": {},
   "outputs": [],
   "source": [
    "def read_data(filename):\n",
    "    '''\n",
    "    This function reads the .csv stored at the 'filename' location and returns a DataFrame\n",
    "    with two levels of column names. The first level column contains the Stock Name and the \n",
    "    second contains the type of market data, e.g. bid/ask, price/volume.\n",
    "    '''\n",
    "    df = pd.read_csv(filename, index_col=0)\n",
    "    df.columns = [df.columns.str[-2:], df.columns.str[:-3]]\n",
    "\n",
    "    return df"
   ]
  },
  {
   "cell_type": "code",
   "execution_count": null,
   "metadata": {},
   "outputs": [],
   "source": [
    "# Read the market data\n",
    "\n",
    "filename = 'Pairs Trading.csv'\n",
    "market_data = read_data(filename)"
   ]
  },
  {
   "cell_type": "code",
   "execution_count": null,
   "metadata": {},
   "outputs": [],
   "source": [
    "# Get all the stock names into a list\n",
    "\n",
    "stock_names = list(market_data.columns.get_level_values(0).unique())\n",
    "\n",
    "print(stock_names)"
   ]
  },
  {
   "cell_type": "markdown",
   "metadata": {},
   "source": [
    "# Some Examples"
   ]
  },
  {
   "cell_type": "code",
   "execution_count": null,
   "metadata": {},
   "outputs": [],
   "source": [
    "# What is in the dataframe? (Display top 5 rows with the .head() DataFrame method.)\n",
    "\n",
    "market_data.head()"
   ]
  },
  {
   "cell_type": "code",
   "execution_count": null,
   "metadata": {},
   "outputs": [],
   "source": [
    "# Extracting the BidVolumes of AA. Note how the printed output is formatted differently \n",
    "# from the output printed for the whole DataFrame, to indicate that the single column \n",
    "# we extracted is a Series.\n",
    "\n",
    "bid_volumes_AA = market_data['AA', 'BidVolume']\n",
    "bid_volumes_AA.head()"
   ]
  },
  {
   "cell_type": "code",
   "execution_count": null,
   "metadata": {},
   "outputs": [],
   "source": [
    "# Extracting the BidVolume at a specific time. This is just a number (float).\n",
    "\n",
    "time = '2018-01-05 10:20:00'\n",
    "\n",
    "bid_volume_AA_at_time = market_data.loc[time, ('AA', 'BidVolume')]\n",
    "bid_volume_AA_at_time"
   ]
  },
  {
   "cell_type": "code",
   "execution_count": null,
   "metadata": {},
   "outputs": [],
   "source": [
    "# Extracting a subset of observations, here the 1220th to the 1225th.\n",
    "\n",
    "market_data.iloc[1220:1225]"
   ]
  },
  {
   "cell_type": "code",
   "execution_count": null,
   "metadata": {},
   "outputs": [],
   "source": [
    "# Adding a new column based on a calculation of old columns\n",
    "# NOTE: The new column gets added to the far right of the DataFrame\n",
    "\n",
    "bid_ask_spread_AA = market_data['AA', 'AskPrice'] - market_data['AA', 'BidPrice']\n",
    "\n",
    "market_data['AA', 'BidAskSpread'] = bid_ask_spread_AA\n",
    "\n",
    "market_data.head()"
   ]
  },
  {
   "cell_type": "code",
   "execution_count": null,
   "metadata": {},
   "outputs": [],
   "source": [
    "# The resulting DataFrame still looks a bit disordered, with the new AA column not alongside\n",
    "# the other AA columns. We can alphabetically sort the column names to clean things up a bit.\n",
    "\n",
    "market_data = market_data.sort_index(axis=1)\n",
    "market_data.head()"
   ]
  },
  {
   "cell_type": "code",
   "execution_count": null,
   "metadata": {},
   "outputs": [],
   "source": [
    "# If we want to iterate over each timestamp, we can easily do so. As practice, let's \n",
    "# calculate the maximum BidAskSpread of AA seen in the whole dataset.\n",
    "\n",
    "max_spread_seen = 0\n",
    "max_spread_seen_time = None\n",
    "\n",
    "for time, mkt_data_at_time in market_data.iterrows():\n",
    "    spread = mkt_data_at_time['AA', 'BidAskSpread'] \n",
    "    \n",
    "    if spread > max_spread_seen:\n",
    "        max_spread_seen = spread\n",
    "        max_spread_seen_time = time\n",
    "\n",
    "print(max_spread_seen_time, max_spread_seen)"
   ]
  },
  {
   "cell_type": "code",
   "execution_count": null,
   "metadata": {},
   "outputs": [],
   "source": [
    "# Now let's do a comparison between different timestamps. We will calculate the maximum \n",
    "# price-increase of the AA BidPrice for the whole dataset.\n",
    "\n",
    "max_price_increase = -999999\n",
    "max_price_increase_seen_time = None\n",
    "\n",
    "prev_time = None\n",
    "\n",
    "for time, mkt_data_at_time in market_data.iterrows():\n",
    "    if prev_time == None:\n",
    "        # Skip the first observation, there is no previous bid price to compare to yet.\n",
    "        prev_time = time\n",
    "        continue\n",
    "    \n",
    "    previous_bid_price = market_data.loc[prev_time, ('AA', 'BidPrice')]  \n",
    "    current_bid_price = mkt_data_at_time['AA', 'BidPrice']\n",
    "       \n",
    "    bid_price_increase = current_bid_price - previous_bid_price\n",
    "    \n",
    "    if bid_price_increase > max_price_increase:\n",
    "        max_price_increase = bid_price_increase\n",
    "        max_price_increase_seen_time = time\n",
    "        \n",
    "    # Update the previous time for the next iteration of the loop.\n",
    "    prev_time = time\n",
    "\n",
    "print(max_price_increase_seen_time, max_price_increase)"
   ]
  },
  {
   "cell_type": "markdown",
   "metadata": {},
   "source": [
    "# Exercise"
   ]
  },
  {
   "cell_type": "code",
   "execution_count": null,
   "metadata": {},
   "outputs": [],
   "source": [
    "# Now it's your turn. Start with plotting some of the values in the market_data DataFrame. Next, apply\n",
    "# the analysis functions imported above. Finally design and backtest a trading algorithm exploting\n",
    "# the cointegration relationships found in the data."
   ]
  }
 ],
 "metadata": {
  "kernelspec": {
   "display_name": "Python 3",
   "language": "python",
   "name": "python3"
  },
  "language_info": {
   "codemirror_mode": {
    "name": "ipython",
    "version": 3
   },
   "file_extension": ".py",
   "mimetype": "text/x-python",
   "name": "python",
   "nbconvert_exporter": "python",
   "pygments_lexer": "ipython3",
   "version": "3.6.6"
  }
 },
 "nbformat": 4,
 "nbformat_minor": 2
}
